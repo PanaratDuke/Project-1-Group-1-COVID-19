{
 "cells": [
  {
   "cell_type": "markdown",
   "metadata": {},
   "source": [
    "# Analysis of the COVID-19 Data Set published by John Hopkins University Center for Systems Science and Engineering (JHU CSSE)\n",
    "### The data is collected and distribued daily.\n",
    "### Anyone can retrieve the full data set from this [GitHub](https://github.com/CSSEGISandData/COVID-19) site.\n",
    "### The primary data files types are:\n",
    "* Summary Files (Province/State, Country/Region, Last Update, Confirmed, Deaths, Recovered, Latitude, Longitude)\n",
    "* Time Series Files (Province/State, Country/Region, Lat, Long, <dates>) for Confirmed, Deaths, and Recovered counts"
   ]
  },
  {
   "cell_type": "code",
   "execution_count": 1,
   "metadata": {},
   "outputs": [],
   "source": [
    "# Initialization\n",
    "import datetime as dt\n",
    "import matplotlib.pyplot as plt\n",
    "import numpy as np\n",
    "import pandas as pd\n",
    "import pathlib as p\n",
    "import time as t\n",
    "import scipy.stats as st\n",
    "\n",
    "# Set this path to the directory where you have cloned the JHU CSSE Data Set\n",
    "dir_covid_19 = p.PureWindowsPath(r\"C:\\Users\\norma\\HDD_Documents\\BootCamp\\Projects\\Project1\\CoronaVirus\\COVID-19\")\n",
    "world_path = p.PureWindowsPath(r\"Resources\\world_pop_csv.csv\")\n",
    "# Set this date to the desired Summary Date\n",
    "study_date = dt.date(2020, 3, 13)"
   ]
  },
  {
   "cell_type": "markdown",
   "metadata": {},
   "source": [
    "## Summary Data\n",
    "### Load the Summary File for the Study Date"
   ]
  },
  {
   "cell_type": "code",
   "execution_count": 2,
   "metadata": {},
   "outputs": [
    {
     "ename": "FileNotFoundError",
     "evalue": "[Errno 2] File C:\\Users\\norma\\HDD_Documents\\BootCamp\\Projects\\Project1\\CoronaVirus\\COVID-19\\csse_covid_19_data\\csse_covid_19_daily_reports\\03-13-2020.csv does not exist: 'C:\\\\Users\\\\norma\\\\HDD_Documents\\\\BootCamp\\\\Projects\\\\Project1\\\\CoronaVirus\\\\COVID-19\\\\csse_covid_19_data\\\\csse_covid_19_daily_reports\\\\03-13-2020.csv'",
     "output_type": "error",
     "traceback": [
      "\u001b[1;31m---------------------------------------------------------------------------\u001b[0m",
      "\u001b[1;31mFileNotFoundError\u001b[0m                         Traceback (most recent call last)",
      "\u001b[1;32m<ipython-input-2-27eac47b8db5>\u001b[0m in \u001b[0;36m<module>\u001b[1;34m\u001b[0m\n\u001b[0;32m      3\u001b[0m \u001b[0mdaily_report_filename\u001b[0m \u001b[1;33m=\u001b[0m \u001b[0mp\u001b[0m\u001b[1;33m.\u001b[0m\u001b[0mPath\u001b[0m\u001b[1;33m(\u001b[0m\u001b[0mdir_covid_19\u001b[0m\u001b[1;33m)\u001b[0m \u001b[1;33m/\u001b[0m \u001b[1;34mf\"csse_covid_19_data/csse_covid_19_daily_reports/{mmddyyyy_study_date}.csv\"\u001b[0m\u001b[1;33m\u001b[0m\u001b[1;33m\u001b[0m\u001b[0m\n\u001b[0;32m      4\u001b[0m \u001b[0mtype\u001b[0m\u001b[1;33m(\u001b[0m\u001b[0mdaily_report_filename\u001b[0m\u001b[1;33m)\u001b[0m\u001b[1;33m\u001b[0m\u001b[1;33m\u001b[0m\u001b[0m\n\u001b[1;32m----> 5\u001b[1;33m \u001b[0mss\u001b[0m \u001b[1;33m=\u001b[0m \u001b[0mpd\u001b[0m\u001b[1;33m.\u001b[0m\u001b[0mread_csv\u001b[0m\u001b[1;33m(\u001b[0m\u001b[0mdaily_report_filename\u001b[0m\u001b[1;33m)\u001b[0m\u001b[1;33m\u001b[0m\u001b[1;33m\u001b[0m\u001b[0m\n\u001b[0m",
      "\u001b[1;32m~\\Anaconda3\\lib\\site-packages\\pandas\\io\\parsers.py\u001b[0m in \u001b[0;36mparser_f\u001b[1;34m(filepath_or_buffer, sep, delimiter, header, names, index_col, usecols, squeeze, prefix, mangle_dupe_cols, dtype, engine, converters, true_values, false_values, skipinitialspace, skiprows, skipfooter, nrows, na_values, keep_default_na, na_filter, verbose, skip_blank_lines, parse_dates, infer_datetime_format, keep_date_col, date_parser, dayfirst, cache_dates, iterator, chunksize, compression, thousands, decimal, lineterminator, quotechar, quoting, doublequote, escapechar, comment, encoding, dialect, error_bad_lines, warn_bad_lines, delim_whitespace, low_memory, memory_map, float_precision)\u001b[0m\n\u001b[0;32m    674\u001b[0m         )\n\u001b[0;32m    675\u001b[0m \u001b[1;33m\u001b[0m\u001b[0m\n\u001b[1;32m--> 676\u001b[1;33m         \u001b[1;32mreturn\u001b[0m \u001b[0m_read\u001b[0m\u001b[1;33m(\u001b[0m\u001b[0mfilepath_or_buffer\u001b[0m\u001b[1;33m,\u001b[0m \u001b[0mkwds\u001b[0m\u001b[1;33m)\u001b[0m\u001b[1;33m\u001b[0m\u001b[1;33m\u001b[0m\u001b[0m\n\u001b[0m\u001b[0;32m    677\u001b[0m \u001b[1;33m\u001b[0m\u001b[0m\n\u001b[0;32m    678\u001b[0m     \u001b[0mparser_f\u001b[0m\u001b[1;33m.\u001b[0m\u001b[0m__name__\u001b[0m \u001b[1;33m=\u001b[0m \u001b[0mname\u001b[0m\u001b[1;33m\u001b[0m\u001b[1;33m\u001b[0m\u001b[0m\n",
      "\u001b[1;32m~\\Anaconda3\\lib\\site-packages\\pandas\\io\\parsers.py\u001b[0m in \u001b[0;36m_read\u001b[1;34m(filepath_or_buffer, kwds)\u001b[0m\n\u001b[0;32m    446\u001b[0m \u001b[1;33m\u001b[0m\u001b[0m\n\u001b[0;32m    447\u001b[0m     \u001b[1;31m# Create the parser.\u001b[0m\u001b[1;33m\u001b[0m\u001b[1;33m\u001b[0m\u001b[1;33m\u001b[0m\u001b[0m\n\u001b[1;32m--> 448\u001b[1;33m     \u001b[0mparser\u001b[0m \u001b[1;33m=\u001b[0m \u001b[0mTextFileReader\u001b[0m\u001b[1;33m(\u001b[0m\u001b[0mfp_or_buf\u001b[0m\u001b[1;33m,\u001b[0m \u001b[1;33m**\u001b[0m\u001b[0mkwds\u001b[0m\u001b[1;33m)\u001b[0m\u001b[1;33m\u001b[0m\u001b[1;33m\u001b[0m\u001b[0m\n\u001b[0m\u001b[0;32m    449\u001b[0m \u001b[1;33m\u001b[0m\u001b[0m\n\u001b[0;32m    450\u001b[0m     \u001b[1;32mif\u001b[0m \u001b[0mchunksize\u001b[0m \u001b[1;32mor\u001b[0m \u001b[0miterator\u001b[0m\u001b[1;33m:\u001b[0m\u001b[1;33m\u001b[0m\u001b[1;33m\u001b[0m\u001b[0m\n",
      "\u001b[1;32m~\\Anaconda3\\lib\\site-packages\\pandas\\io\\parsers.py\u001b[0m in \u001b[0;36m__init__\u001b[1;34m(self, f, engine, **kwds)\u001b[0m\n\u001b[0;32m    878\u001b[0m             \u001b[0mself\u001b[0m\u001b[1;33m.\u001b[0m\u001b[0moptions\u001b[0m\u001b[1;33m[\u001b[0m\u001b[1;34m\"has_index_names\"\u001b[0m\u001b[1;33m]\u001b[0m \u001b[1;33m=\u001b[0m \u001b[0mkwds\u001b[0m\u001b[1;33m[\u001b[0m\u001b[1;34m\"has_index_names\"\u001b[0m\u001b[1;33m]\u001b[0m\u001b[1;33m\u001b[0m\u001b[1;33m\u001b[0m\u001b[0m\n\u001b[0;32m    879\u001b[0m \u001b[1;33m\u001b[0m\u001b[0m\n\u001b[1;32m--> 880\u001b[1;33m         \u001b[0mself\u001b[0m\u001b[1;33m.\u001b[0m\u001b[0m_make_engine\u001b[0m\u001b[1;33m(\u001b[0m\u001b[0mself\u001b[0m\u001b[1;33m.\u001b[0m\u001b[0mengine\u001b[0m\u001b[1;33m)\u001b[0m\u001b[1;33m\u001b[0m\u001b[1;33m\u001b[0m\u001b[0m\n\u001b[0m\u001b[0;32m    881\u001b[0m \u001b[1;33m\u001b[0m\u001b[0m\n\u001b[0;32m    882\u001b[0m     \u001b[1;32mdef\u001b[0m \u001b[0mclose\u001b[0m\u001b[1;33m(\u001b[0m\u001b[0mself\u001b[0m\u001b[1;33m)\u001b[0m\u001b[1;33m:\u001b[0m\u001b[1;33m\u001b[0m\u001b[1;33m\u001b[0m\u001b[0m\n",
      "\u001b[1;32m~\\Anaconda3\\lib\\site-packages\\pandas\\io\\parsers.py\u001b[0m in \u001b[0;36m_make_engine\u001b[1;34m(self, engine)\u001b[0m\n\u001b[0;32m   1112\u001b[0m     \u001b[1;32mdef\u001b[0m \u001b[0m_make_engine\u001b[0m\u001b[1;33m(\u001b[0m\u001b[0mself\u001b[0m\u001b[1;33m,\u001b[0m \u001b[0mengine\u001b[0m\u001b[1;33m=\u001b[0m\u001b[1;34m\"c\"\u001b[0m\u001b[1;33m)\u001b[0m\u001b[1;33m:\u001b[0m\u001b[1;33m\u001b[0m\u001b[1;33m\u001b[0m\u001b[0m\n\u001b[0;32m   1113\u001b[0m         \u001b[1;32mif\u001b[0m \u001b[0mengine\u001b[0m \u001b[1;33m==\u001b[0m \u001b[1;34m\"c\"\u001b[0m\u001b[1;33m:\u001b[0m\u001b[1;33m\u001b[0m\u001b[1;33m\u001b[0m\u001b[0m\n\u001b[1;32m-> 1114\u001b[1;33m             \u001b[0mself\u001b[0m\u001b[1;33m.\u001b[0m\u001b[0m_engine\u001b[0m \u001b[1;33m=\u001b[0m \u001b[0mCParserWrapper\u001b[0m\u001b[1;33m(\u001b[0m\u001b[0mself\u001b[0m\u001b[1;33m.\u001b[0m\u001b[0mf\u001b[0m\u001b[1;33m,\u001b[0m \u001b[1;33m**\u001b[0m\u001b[0mself\u001b[0m\u001b[1;33m.\u001b[0m\u001b[0moptions\u001b[0m\u001b[1;33m)\u001b[0m\u001b[1;33m\u001b[0m\u001b[1;33m\u001b[0m\u001b[0m\n\u001b[0m\u001b[0;32m   1115\u001b[0m         \u001b[1;32melse\u001b[0m\u001b[1;33m:\u001b[0m\u001b[1;33m\u001b[0m\u001b[1;33m\u001b[0m\u001b[0m\n\u001b[0;32m   1116\u001b[0m             \u001b[1;32mif\u001b[0m \u001b[0mengine\u001b[0m \u001b[1;33m==\u001b[0m \u001b[1;34m\"python\"\u001b[0m\u001b[1;33m:\u001b[0m\u001b[1;33m\u001b[0m\u001b[1;33m\u001b[0m\u001b[0m\n",
      "\u001b[1;32m~\\Anaconda3\\lib\\site-packages\\pandas\\io\\parsers.py\u001b[0m in \u001b[0;36m__init__\u001b[1;34m(self, src, **kwds)\u001b[0m\n\u001b[0;32m   1889\u001b[0m         \u001b[0mkwds\u001b[0m\u001b[1;33m[\u001b[0m\u001b[1;34m\"usecols\"\u001b[0m\u001b[1;33m]\u001b[0m \u001b[1;33m=\u001b[0m \u001b[0mself\u001b[0m\u001b[1;33m.\u001b[0m\u001b[0musecols\u001b[0m\u001b[1;33m\u001b[0m\u001b[1;33m\u001b[0m\u001b[0m\n\u001b[0;32m   1890\u001b[0m \u001b[1;33m\u001b[0m\u001b[0m\n\u001b[1;32m-> 1891\u001b[1;33m         \u001b[0mself\u001b[0m\u001b[1;33m.\u001b[0m\u001b[0m_reader\u001b[0m \u001b[1;33m=\u001b[0m \u001b[0mparsers\u001b[0m\u001b[1;33m.\u001b[0m\u001b[0mTextReader\u001b[0m\u001b[1;33m(\u001b[0m\u001b[0msrc\u001b[0m\u001b[1;33m,\u001b[0m \u001b[1;33m**\u001b[0m\u001b[0mkwds\u001b[0m\u001b[1;33m)\u001b[0m\u001b[1;33m\u001b[0m\u001b[1;33m\u001b[0m\u001b[0m\n\u001b[0m\u001b[0;32m   1892\u001b[0m         \u001b[0mself\u001b[0m\u001b[1;33m.\u001b[0m\u001b[0munnamed_cols\u001b[0m \u001b[1;33m=\u001b[0m \u001b[0mself\u001b[0m\u001b[1;33m.\u001b[0m\u001b[0m_reader\u001b[0m\u001b[1;33m.\u001b[0m\u001b[0munnamed_cols\u001b[0m\u001b[1;33m\u001b[0m\u001b[1;33m\u001b[0m\u001b[0m\n\u001b[0;32m   1893\u001b[0m \u001b[1;33m\u001b[0m\u001b[0m\n",
      "\u001b[1;32mpandas\\_libs\\parsers.pyx\u001b[0m in \u001b[0;36mpandas._libs.parsers.TextReader.__cinit__\u001b[1;34m()\u001b[0m\n",
      "\u001b[1;32mpandas\\_libs\\parsers.pyx\u001b[0m in \u001b[0;36mpandas._libs.parsers.TextReader._setup_parser_source\u001b[1;34m()\u001b[0m\n",
      "\u001b[1;31mFileNotFoundError\u001b[0m: [Errno 2] File C:\\Users\\norma\\HDD_Documents\\BootCamp\\Projects\\Project1\\CoronaVirus\\COVID-19\\csse_covid_19_data\\csse_covid_19_daily_reports\\03-13-2020.csv does not exist: 'C:\\\\Users\\\\norma\\\\HDD_Documents\\\\BootCamp\\\\Projects\\\\Project1\\\\CoronaVirus\\\\COVID-19\\\\csse_covid_19_data\\\\csse_covid_19_daily_reports\\\\03-13-2020.csv'"
     ]
    }
   ],
   "source": [
    "# Daily Summary Statistics\n",
    "mmddyyyy_study_date = study_date.strftime(\"%m-%d-%Y\")\n",
    "daily_report_filename = p.Path(dir_covid_19) / f\"csse_covid_19_data/csse_covid_19_daily_reports/{mmddyyyy_study_date}.csv\"\n",
    "type(daily_report_filename)\n",
    "ss = pd.read_csv(daily_report_filename)"
   ]
  },
  {
   "cell_type": "code",
   "execution_count": null,
   "metadata": {},
   "outputs": [],
   "source": [
    "ss[ss['Country/Region'] == 'Italy']"
   ]
  },
  {
   "cell_type": "markdown",
   "metadata": {},
   "source": [
    "### Aggregate the Counts by Country"
   ]
  },
  {
   "cell_type": "code",
   "execution_count": null,
   "metadata": {},
   "outputs": [],
   "source": [
    "# Aggregate the summary data by country\n",
    "ss_country = pd.pivot_table(ss, values=[\"Confirmed\",\"Deaths\",\"Recovered\"], index=\"Country/Region\", columns=None, aggfunc=\"sum\")\n",
    "ss_country"
   ]
  },
  {
   "cell_type": "markdown",
   "metadata": {},
   "source": [
    "## Time Series Data\n",
    "### Load a time series of Confirmed case counts\n",
    "###### (The same logic could be used for Death or Recovered counts.)"
   ]
  },
  {
   "cell_type": "code",
   "execution_count": null,
   "metadata": {},
   "outputs": [],
   "source": [
    "# Time Series -- Confirmed\n",
    "time_series_confirmed_filename = p.Path(dir_covid_19) / \"csse_covid_19_data/csse_covid_19_time_series/time_series_19-covid-Confirmed.csv\"\n",
    "#\"C:\\Users\\norma\\HDD_Documents\\BootCamp\\Projects\\Project1\\CoronaVirus\\COVID-19\\csse_covid_19_data\\csse_covid_19_time_series\\time_series_19-covid-Confirmed.csv\"\n",
    "tsc = pd.read_csv(time_series_confirmed_filename)\n",
    "tsc_country = pd.pivot_table(tsc, index=\"Country/Region\", aggfunc=\"sum\").drop(columns=[\"Lat\",\"Long\"])\n",
    "# Transpose the DataFrame, because Pandas likes the dates in the index\n",
    "tsc_country = tsc_country.T"
   ]
  },
  {
   "cell_type": "code",
   "execution_count": null,
   "metadata": {},
   "outputs": [],
   "source": [
    "# Pandas is loading the column headings (now index values), which look like \"mm/dd/yy\" dates, as strings.\n",
    "# The string representation of these dates don't sort chronologically.\n",
    "# Change the string index to Timestamp index, which Pandas will treat as a DateTimeIndex (an index with extra features).\n",
    "tsc_country.index = [pd.Timestamp(d) for d in tsc_country.index]\n",
    "# Now sort the DataFrame by the Timestamp index\n",
    "tsc_country = tsc_country.loc[tsc_country.index.sort_values(),:]\n",
    "tsc_country"
   ]
  },
  {
   "cell_type": "markdown",
   "metadata": {},
   "source": [
    "### Align the trends\n",
    "* Create a DataFrame with Relative Date Counts.\n",
    "* Remove the leading zero counts, to align the trends to start with the first non-zero value."
   ]
  },
  {
   "cell_type": "code",
   "execution_count": null,
   "metadata": {},
   "outputs": [],
   "source": [
    "# Create an DataFrame full of NaN, to hold relative-day trends of infection for each country\n",
    "npNaN = np.empty(tsc_country.shape)\n",
    "npNaN[:] = np.NaN\n",
    "npNaN.shape\n",
    "rel_country = pd.DataFrame(npNaN, columns=tsc_country.columns.values)"
   ]
  },
  {
   "cell_type": "code",
   "execution_count": null,
   "metadata": {},
   "outputs": [],
   "source": [
    "# Shift the trends up, to start on relative day zero\n",
    "for (the_column, the_data) in tsc_country.iteritems():\n",
    "#     print(type(the_column), type(the_data),the_data)\n",
    "    trend = np.trim_zeros(the_data.to_numpy(),'f')\n",
    "    rel_country[the_column][0:len(trend)] = trend\n",
    "#     break\n",
    "    \n",
    "rel_country.to_csv(\"output\\diff_T_df.csv\", index = False)\n",
    "rel_country"
   ]
  },
  {
   "cell_type": "code",
   "execution_count": null,
   "metadata": {
    "scrolled": true
   },
   "outputs": [],
   "source": [
    "diff_confirm_df = rel_country.diff(axis = 0)\n",
    "# diff_confirm_df.to_csv(\"output\\avg_diff.csv\",index = True)\n",
    "diff_confirm_df"
   ]
  },
  {
   "cell_type": "code",
   "execution_count": null,
   "metadata": {},
   "outputs": [],
   "source": [
    "avg_change_df = pd.DataFrame(diff_confirm_df.mean(axis = 0)).reset_index()\n",
    "avg_change_df.columns = [\"country\",\"average\"]\n",
    "avg_change_df.to_csv(\"output/avg_change.csv\", index = True)\n",
    "avg_change_df"
   ]
  },
  {
   "cell_type": "code",
   "execution_count": null,
   "metadata": {},
   "outputs": [],
   "source": [
    "world_pop_df = pd.read_csv(r\"Resources\\world_pop_utf.csv\", encoding = 'UTF-8')\n",
    "\n",
    "world_pop_df.to_csv(\"output/world_pop.csv\", index = False)\n",
    "world_pop_df.columns\n",
    "world_pop_df"
   ]
  },
  {
   "cell_type": "code",
   "execution_count": null,
   "metadata": {},
   "outputs": [],
   "source": [
    "countries_of_interest = ['China','Italy','Korea, South','Iran','France','US']\n",
    "# world_pop_df has \"South Korea\" and \"United States\"\n",
    "world_pop_df[world_pop_df['Country '] == 'United States']\n",
    "\n",
    "avg_change_df[avg_change_df['country']=='US']\n",
    "avg_change_df.loc[144,'country'] = 'United States'\n",
    "avg_change_df.loc[144,:]\n",
    "avg_change_df[avg_change_df['country']=='Korea, South']\n",
    "avg_change_df.loc[77,'country'] = 'South Korea'\n",
    "avg_change_df.loc[77,:]\n",
    "#avg_change_df[avg_change_df['country']=='Korea, South'] = 'South Korea'\n",
    "#avg_change_df[avg_change_df['country']=='United States']\n",
    "#avg_change_df[avg_change_df['country']=='South Korea']\n"
   ]
  },
  {
   "cell_type": "code",
   "execution_count": null,
   "metadata": {},
   "outputs": [],
   "source": [
    "scatterPlt_df = pd.merge(avg_change_df,world_pop_df, left_on = 'country', right_on = 'Country ')\n",
    "scatterPlt_df.drop(['Country '], axis = 1, inplace = True)\n",
    "scatterPlt_df.head(5)"
   ]
  },
  {
   "cell_type": "code",
   "execution_count": null,
   "metadata": {},
   "outputs": [],
   "source": [
    "# normalize the population\n",
    "\n",
    "# scatterPlt_df['normalize'] = (scatterPlt_df[\"world Population 2020\"]*100000)/100\n",
    "scatterPlt_df.dtypes\n",
    "# scatterPlt_df.head()"
   ]
  },
  {
   "cell_type": "code",
   "execution_count": null,
   "metadata": {},
   "outputs": [],
   "source": [
    "scatterPlt_df['world Population 2020'] = scatterPlt_df['world Population 2020'].str.replace(',','').astype(float)\n",
    "scatterPlt_df"
   ]
  },
  {
   "cell_type": "code",
   "execution_count": null,
   "metadata": {},
   "outputs": [],
   "source": [
    "scatterPlt_df.dtypes"
   ]
  },
  {
   "cell_type": "code",
   "execution_count": null,
   "metadata": {},
   "outputs": [],
   "source": [
    "scatterPlt_df['normalize'] = (scatterPlt_df[\"world Population 2020\"]/1000000)\n",
    "print(scatterPlt_df[scatterPlt_df['country']=='India'])\n",
    "print(scatterPlt_df[scatterPlt_df['country']=='China'])\n",
    "print(scatterPlt_df[scatterPlt_df['average']>500.0])"
   ]
  },
  {
   "cell_type": "code",
   "execution_count": null,
   "metadata": {},
   "outputs": [],
   "source": [
    "# Scatter Plot x = Average Confirmed cased per day, y = Population\n",
    "\n",
    "x_values = scatterPlt_df['normalize'].sort_values()\n",
    "y_values = scatterPlt_df['average'].sort_values()\n",
    "(slope, intercept, rvalue, pvalue, stderr) = st.linregress(x_values, y_values)\n",
    "x_regression = np.arange(14,1500.0,0.5)\n",
    "regress_values = x_regression * slope + intercept\n",
    "line_eq = \"y = \" + str(round(slope,2)) + \"x + \" + str(round(intercept,2))\n",
    "\n",
    "fig1 = plt.figure(1, figsize=(15,9))\n",
    "plt.xlim(.2e1,1.5e3)\n",
    "plt.xscale(\"log\")\n",
    "plt.ylim(1e-1,1.7e3)\n",
    "plt.yscale(\"log\")\n",
    "plt.scatter(scatterPlt_df['normalize'],scatterPlt_df['average'])\n",
    "plt.plot(x_regression,regress_values,\"r-\")\n",
    "\n",
    "plt.annotate(f\"Pearson's Correlation is {rvalue:.2f}\", (120,50), color=\"red\")\n",
    "plt.annotate(line_eq,(120,70),color=\"red\")\n",
    "plt.annotate(\"India\",(1100,2.8))\n",
    "plt.annotate(\"China\",(1110,1300))\n",
    "plt.annotate(\"Iran\",(89,580))\n",
    "plt.annotate(\"Italy\",(64,700))\n",
    "\n",
    "#43    Iran   598.777778           8.399295e+07    83.992949\n",
    "#47   Italy   684.869565           6.046183e+07    60.461826\n",
    "\n",
    "\n",
    "plt.title(\"Average Cases Per Day v. Country Population\")\n",
    "plt.ylabel(\"Average Cases Per Day (logrithmic)\")\n",
    "plt.xlabel(\"Country Population (mm, logrithmic)\")\n",
    "\n",
    "plt.savefig(\"./CasesPerDayForPopulation.png\")\n",
    "# The \"_ = \" catches the return value of the last command, so it doesn't distract from the figure"
   ]
  },
  {
   "cell_type": "raw",
   "metadata": {},
   "source": [
    "#fig2 = plt.figure(2, figsize=(15,9))\n",
    "\n",
    "#plt.scatter(scatterPlt_df['average'],scatterPlt_df['normalize'],hue = scatterPlt_df['country'])\n",
    "#plt.legend()\n",
    "#plt.title(\"\")\n",
    "#plt.xlabel(\"Days Since First Case\")\n",
    "# plt.savefig(\"./ConfirmedCasesForSelectedCountries.png\")\n",
    "#_ = plt.ylabel(\"People\")"
   ]
  },
  {
   "cell_type": "code",
   "execution_count": null,
   "metadata": {},
   "outputs": [],
   "source": [
    "import seaborn as sns\n"
   ]
  },
  {
   "cell_type": "code",
   "execution_count": null,
   "metadata": {},
   "outputs": [],
   "source": [
    "country_interest = ['China','Italy','Iran','South Korea']\n",
    "\n",
    "country_interest_df = scatterPlt_df.loc[scatterPlt_df['country'].isin(country_interest)]\n",
    "sns.scatterplot(country_interest_df['average'],country_interest_df['normalize'],hue = country_interest_df['country'])\n",
    "plt.legend()"
   ]
  },
  {
   "cell_type": "code",
   "execution_count": null,
   "metadata": {},
   "outputs": [],
   "source": [
    "\n",
    "\n",
    "diff_confirm_df = diff_confirm_df.reindex(country_interest, axis =1)\n",
    "\n",
    "_ = sns.boxplot(data = diff_confirm_df)\n",
    "plt.title(\"Daily Growth Rate for Countries of Interest\")\n",
    "plt.ylabel(\"Daily Growth\")"
   ]
  },
  {
   "cell_type": "code",
   "execution_count": null,
   "metadata": {},
   "outputs": [],
   "source": []
  },
  {
   "cell_type": "code",
   "execution_count": null,
   "metadata": {},
   "outputs": [],
   "source": []
  }
 ],
 "metadata": {
  "kernelspec": {
   "display_name": "Python 3",
   "language": "python",
   "name": "python3"
  },
  "language_info": {
   "codemirror_mode": {
    "name": "ipython",
    "version": 3
   },
   "file_extension": ".py",
   "mimetype": "text/x-python",
   "name": "python",
   "nbconvert_exporter": "python",
   "pygments_lexer": "ipython3",
   "version": "3.7.6"
  }
 },
 "nbformat": 4,
 "nbformat_minor": 4
}
